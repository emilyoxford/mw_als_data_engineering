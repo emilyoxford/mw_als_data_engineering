{
 "cells": [
  {
   "cell_type": "markdown",
   "metadata": {},
   "source": [
    "# ALS - Data Engineering Exercise"
   ]
  },
  {
   "cell_type": "markdown",
   "metadata": {},
   "source": [
    "## Importing packages"
   ]
  },
  {
   "cell_type": "code",
   "execution_count": 1,
   "metadata": {},
   "outputs": [],
   "source": [
    "import datetime\n",
    "import numpy as np\n",
    "import matplotlib.pyplot as plt\n",
    "import pandas as pd\n",
    "import seaborn as sns"
   ]
  },
  {
   "cell_type": "markdown",
   "metadata": {},
   "source": [
    "## Loading in data"
   ]
  },
  {
   "cell_type": "code",
   "execution_count": 2,
   "metadata": {},
   "outputs": [],
   "source": [
    "cons_info = pd.read_csv('https://als-hiring.s3.amazonaws.com/fake_data/2020-07-01_17%3A11%3A00/cons.csv')"
   ]
  },
  {
   "cell_type": "code",
   "execution_count": 3,
   "metadata": {},
   "outputs": [],
   "source": [
    "cons_email = pd.read_csv('https://als-hiring.s3.amazonaws.com/fake_data/2020-07-01_17%3A11%3A00/cons_email.csv')"
   ]
  },
  {
   "cell_type": "code",
   "execution_count": 6,
   "metadata": {},
   "outputs": [],
   "source": [
    "cons_ecs = pd.read_csv('https://als-hiring.s3.amazonaws.com/fake_data/2020-07-01_17%3A11%3A00/cons_email_chapter_subscription.csv')"
   ]
  },
  {
   "cell_type": "markdown",
   "metadata": {},
   "source": [
    "## Brief data exploration"
   ]
  },
  {
   "cell_type": "code",
   "execution_count": 7,
   "metadata": {},
   "outputs": [
    {
     "data": {
      "text/plain": [
       "(700000,\n",
       " Index(['cons_id', 'prefix', 'firstname', 'middlename', 'lastname', 'suffix',\n",
       "        'salutation', 'gender', 'birth_dt', 'title', 'employer', 'occupation',\n",
       "        'income', 'source', 'subsource', 'userid', 'password', 'is_validated',\n",
       "        'is_banned', 'change_password_next_login', 'consent_type_id',\n",
       "        'create_dt', 'create_app', 'create_user', 'modified_dt', 'modified_app',\n",
       "        'modified_user', 'status', 'note'],\n",
       "       dtype='object'))"
      ]
     },
     "execution_count": 7,
     "metadata": {},
     "output_type": "execute_result"
    }
   ],
   "source": [
    "len(cons_info), cons_info.columns"
   ]
  },
  {
   "cell_type": "code",
   "execution_count": 8,
   "metadata": {},
   "outputs": [
    {
     "data": {
      "text/plain": [
       "(1400000,\n",
       " Index(['cons_email_id', 'cons_id', 'cons_email_type_id', 'is_primary', 'email',\n",
       "        'canonical_local_part', 'domain', 'double_validation', 'create_dt',\n",
       "        'create_app', 'create_user', 'modified_dt', 'modified_app',\n",
       "        'modified_user', 'status', 'note'],\n",
       "       dtype='object'))"
      ]
     },
     "execution_count": 8,
     "metadata": {},
     "output_type": "execute_result"
    }
   ],
   "source": [
    "len(cons_email), cons_email.columns"
   ]
  },
  {
   "cell_type": "code",
   "execution_count": 9,
   "metadata": {},
   "outputs": [
    {
     "data": {
      "text/plain": [
       "(350000,\n",
       " Index(['cons_email_chapter_subscription_id', 'cons_email_id', 'chapter_id',\n",
       "        'isunsub', 'unsub_dt', 'modified_dt'],\n",
       "       dtype='object'))"
      ]
     },
     "execution_count": 9,
     "metadata": {},
     "output_type": "execute_result"
    }
   ],
   "source": [
    "len(cons_ecs), cons_ecs.columns"
   ]
  },
  {
   "cell_type": "code",
   "execution_count": 10,
   "metadata": {},
   "outputs": [
    {
     "data": {
      "text/plain": [
       "63766     12\n",
       "187186    11\n",
       "255248    11\n",
       "606469    11\n",
       "8581      10\n",
       "          ..\n",
       "98001      1\n",
       "87764      1\n",
       "537068     1\n",
       "83670      1\n",
       "370753     1\n",
       "Name: cons_id, Length: 605639, dtype: int64"
      ]
     },
     "execution_count": 10,
     "metadata": {},
     "output_type": "execute_result"
    }
   ],
   "source": [
    "cons_email.cons_id.value_counts()\n",
    "\n",
    "# some people must have multiple emails on file.\n",
    "# And 605639 < 700000\n",
    "# so there is not an email address for every constituent."
   ]
  },
  {
   "cell_type": "code",
   "execution_count": 11,
   "metadata": {},
   "outputs": [
    {
     "data": {
      "text/html": [
       "<div>\n",
       "<style scoped>\n",
       "    .dataframe tbody tr th:only-of-type {\n",
       "        vertical-align: middle;\n",
       "    }\n",
       "\n",
       "    .dataframe tbody tr th {\n",
       "        vertical-align: top;\n",
       "    }\n",
       "\n",
       "    .dataframe thead th {\n",
       "        text-align: right;\n",
       "    }\n",
       "</style>\n",
       "<table border=\"1\" class=\"dataframe\">\n",
       "  <thead>\n",
       "    <tr style=\"text-align: right;\">\n",
       "      <th></th>\n",
       "      <th>cons_email_id</th>\n",
       "      <th>cons_id</th>\n",
       "      <th>cons_email_type_id</th>\n",
       "      <th>is_primary</th>\n",
       "      <th>email</th>\n",
       "      <th>canonical_local_part</th>\n",
       "      <th>domain</th>\n",
       "      <th>double_validation</th>\n",
       "      <th>create_dt</th>\n",
       "      <th>create_app</th>\n",
       "      <th>create_user</th>\n",
       "      <th>modified_dt</th>\n",
       "      <th>modified_app</th>\n",
       "      <th>modified_user</th>\n",
       "      <th>status</th>\n",
       "      <th>note</th>\n",
       "    </tr>\n",
       "  </thead>\n",
       "  <tbody>\n",
       "    <tr>\n",
       "      <th>454499</th>\n",
       "      <td>454500</td>\n",
       "      <td>8581</td>\n",
       "      <td>7149</td>\n",
       "      <td>1</td>\n",
       "      <td>hmoore@wright.com</td>\n",
       "      <td>RlQwpTvGyQnyTKNkBElj</td>\n",
       "      <td>yahoo.com</td>\n",
       "      <td>kHByPRMypwgHurjwLubL</td>\n",
       "      <td>Mon, 1994-11-21 05:48:51</td>\n",
       "      <td>7208</td>\n",
       "      <td>615</td>\n",
       "      <td>Fri, 1983-04-29 00:02:39</td>\n",
       "      <td>7165</td>\n",
       "      <td>3765</td>\n",
       "      <td>1</td>\n",
       "      <td>NaN</td>\n",
       "    </tr>\n",
       "    <tr>\n",
       "      <th>506785</th>\n",
       "      <td>506786</td>\n",
       "      <td>8581</td>\n",
       "      <td>125</td>\n",
       "      <td>0</td>\n",
       "      <td>johnsontommy@hotmail.com</td>\n",
       "      <td>NaN</td>\n",
       "      <td>yahoo.com</td>\n",
       "      <td>NaN</td>\n",
       "      <td>Tue, 1992-03-24 00:35:16</td>\n",
       "      <td>6783</td>\n",
       "      <td>3339</td>\n",
       "      <td>Mon, 1971-08-23 19:40:09</td>\n",
       "      <td>1979</td>\n",
       "      <td>2797</td>\n",
       "      <td>1</td>\n",
       "      <td>NaN</td>\n",
       "    </tr>\n",
       "    <tr>\n",
       "      <th>525172</th>\n",
       "      <td>525173</td>\n",
       "      <td>8581</td>\n",
       "      <td>2397</td>\n",
       "      <td>0</td>\n",
       "      <td>ebonywillis@gmail.com</td>\n",
       "      <td>OoYLvQKEtAOMxDzNqNaH</td>\n",
       "      <td>gmail.com</td>\n",
       "      <td>NaN</td>\n",
       "      <td>Fri, 1992-09-04 18:13:44</td>\n",
       "      <td>4220</td>\n",
       "      <td>2026</td>\n",
       "      <td>Tue, 1992-09-08 21:27:49</td>\n",
       "      <td>6746</td>\n",
       "      <td>3999</td>\n",
       "      <td>1</td>\n",
       "      <td>NaN</td>\n",
       "    </tr>\n",
       "    <tr>\n",
       "      <th>665247</th>\n",
       "      <td>665248</td>\n",
       "      <td>8581</td>\n",
       "      <td>7027</td>\n",
       "      <td>0</td>\n",
       "      <td>adamsneil@hotmail.com</td>\n",
       "      <td>NaN</td>\n",
       "      <td>gmail.com</td>\n",
       "      <td>NaN</td>\n",
       "      <td>Fri, 2009-03-20 17:09:17</td>\n",
       "      <td>8159</td>\n",
       "      <td>4813</td>\n",
       "      <td>Thu, 1982-06-03 08:10:24</td>\n",
       "      <td>8322</td>\n",
       "      <td>9376</td>\n",
       "      <td>1</td>\n",
       "      <td>NaN</td>\n",
       "    </tr>\n",
       "    <tr>\n",
       "      <th>758854</th>\n",
       "      <td>758855</td>\n",
       "      <td>8581</td>\n",
       "      <td>3341</td>\n",
       "      <td>0</td>\n",
       "      <td>fmorales@murillo.com</td>\n",
       "      <td>wiFDPKpdDFAzRtTYAyKL</td>\n",
       "      <td>yahoo.com</td>\n",
       "      <td>NaN</td>\n",
       "      <td>Wed, 1974-02-20 15:29:22</td>\n",
       "      <td>5278</td>\n",
       "      <td>9007</td>\n",
       "      <td>Thu, 1989-11-16 13:51:56</td>\n",
       "      <td>7637</td>\n",
       "      <td>8649</td>\n",
       "      <td>1</td>\n",
       "      <td>NaN</td>\n",
       "    </tr>\n",
       "    <tr>\n",
       "      <th>768859</th>\n",
       "      <td>768860</td>\n",
       "      <td>8581</td>\n",
       "      <td>2412</td>\n",
       "      <td>0</td>\n",
       "      <td>hoffmanjeremy@peterson.biz</td>\n",
       "      <td>zMAubtiPIMjlQROPdsfB</td>\n",
       "      <td>gmail.com</td>\n",
       "      <td>vusPfXVdZcisHEPhqNVu</td>\n",
       "      <td>Mon, 1985-03-18 13:01:17</td>\n",
       "      <td>5991</td>\n",
       "      <td>5730</td>\n",
       "      <td>Sat, 1973-12-15 23:22:51</td>\n",
       "      <td>7925</td>\n",
       "      <td>7119</td>\n",
       "      <td>1</td>\n",
       "      <td>NaN</td>\n",
       "    </tr>\n",
       "    <tr>\n",
       "      <th>940655</th>\n",
       "      <td>940656</td>\n",
       "      <td>8581</td>\n",
       "      <td>5135</td>\n",
       "      <td>0</td>\n",
       "      <td>monica80@yahoo.com</td>\n",
       "      <td>IPFBmOZTfvODhNFYJbhx</td>\n",
       "      <td>yahoo.com</td>\n",
       "      <td>kDaHIUNTDQdCtCpKjIyW</td>\n",
       "      <td>Wed, 1983-04-27 15:41:42</td>\n",
       "      <td>6303</td>\n",
       "      <td>797</td>\n",
       "      <td>Fri, 2013-05-31 04:41:09</td>\n",
       "      <td>1272</td>\n",
       "      <td>5859</td>\n",
       "      <td>1</td>\n",
       "      <td>NaN</td>\n",
       "    </tr>\n",
       "    <tr>\n",
       "      <th>947733</th>\n",
       "      <td>947734</td>\n",
       "      <td>8581</td>\n",
       "      <td>4272</td>\n",
       "      <td>0</td>\n",
       "      <td>heathersalazar@nelson.com</td>\n",
       "      <td>NaN</td>\n",
       "      <td>gmail.com</td>\n",
       "      <td>NaN</td>\n",
       "      <td>Tue, 1972-08-22 13:40:44</td>\n",
       "      <td>6840</td>\n",
       "      <td>25</td>\n",
       "      <td>Thu, 1988-11-24 12:09:50</td>\n",
       "      <td>8330</td>\n",
       "      <td>7153</td>\n",
       "      <td>1</td>\n",
       "      <td>NaN</td>\n",
       "    </tr>\n",
       "    <tr>\n",
       "      <th>1046143</th>\n",
       "      <td>1046144</td>\n",
       "      <td>8581</td>\n",
       "      <td>7618</td>\n",
       "      <td>0</td>\n",
       "      <td>paul81@smith.info</td>\n",
       "      <td>jDQHDqPRSBEtzojVUQxi</td>\n",
       "      <td>gmail.com</td>\n",
       "      <td>WANcaIctxfFMznhrmSsr</td>\n",
       "      <td>Sat, 2019-11-23 18:19:38</td>\n",
       "      <td>5360</td>\n",
       "      <td>7736</td>\n",
       "      <td>Mon, 1998-01-05 15:20:33</td>\n",
       "      <td>714</td>\n",
       "      <td>368</td>\n",
       "      <td>1</td>\n",
       "      <td>NaN</td>\n",
       "    </tr>\n",
       "    <tr>\n",
       "      <th>1246782</th>\n",
       "      <td>1246783</td>\n",
       "      <td>8581</td>\n",
       "      <td>1827</td>\n",
       "      <td>0</td>\n",
       "      <td>anthonydelacruz@hotmail.com</td>\n",
       "      <td>MEaAlIplZCDtPQDcnoWw</td>\n",
       "      <td>yahoo.com</td>\n",
       "      <td>NaN</td>\n",
       "      <td>Mon, 2012-03-12 00:11:52</td>\n",
       "      <td>3931</td>\n",
       "      <td>9660</td>\n",
       "      <td>Sun, 2001-03-25 16:21:49</td>\n",
       "      <td>3668</td>\n",
       "      <td>6489</td>\n",
       "      <td>1</td>\n",
       "      <td>NaN</td>\n",
       "    </tr>\n",
       "  </tbody>\n",
       "</table>\n",
       "</div>"
      ],
      "text/plain": [
       "         cons_email_id  cons_id  cons_email_type_id  is_primary  \\\n",
       "454499          454500     8581                7149           1   \n",
       "506785          506786     8581                 125           0   \n",
       "525172          525173     8581                2397           0   \n",
       "665247          665248     8581                7027           0   \n",
       "758854          758855     8581                3341           0   \n",
       "768859          768860     8581                2412           0   \n",
       "940655          940656     8581                5135           0   \n",
       "947733          947734     8581                4272           0   \n",
       "1046143        1046144     8581                7618           0   \n",
       "1246782        1246783     8581                1827           0   \n",
       "\n",
       "                               email  canonical_local_part     domain  \\\n",
       "454499             hmoore@wright.com  RlQwpTvGyQnyTKNkBElj  yahoo.com   \n",
       "506785      johnsontommy@hotmail.com                   NaN  yahoo.com   \n",
       "525172         ebonywillis@gmail.com  OoYLvQKEtAOMxDzNqNaH  gmail.com   \n",
       "665247         adamsneil@hotmail.com                   NaN  gmail.com   \n",
       "758854          fmorales@murillo.com  wiFDPKpdDFAzRtTYAyKL  yahoo.com   \n",
       "768859    hoffmanjeremy@peterson.biz  zMAubtiPIMjlQROPdsfB  gmail.com   \n",
       "940655            monica80@yahoo.com  IPFBmOZTfvODhNFYJbhx  yahoo.com   \n",
       "947733     heathersalazar@nelson.com                   NaN  gmail.com   \n",
       "1046143            paul81@smith.info  jDQHDqPRSBEtzojVUQxi  gmail.com   \n",
       "1246782  anthonydelacruz@hotmail.com  MEaAlIplZCDtPQDcnoWw  yahoo.com   \n",
       "\n",
       "            double_validation                 create_dt  create_app  \\\n",
       "454499   kHByPRMypwgHurjwLubL  Mon, 1994-11-21 05:48:51        7208   \n",
       "506785                    NaN  Tue, 1992-03-24 00:35:16        6783   \n",
       "525172                    NaN  Fri, 1992-09-04 18:13:44        4220   \n",
       "665247                    NaN  Fri, 2009-03-20 17:09:17        8159   \n",
       "758854                    NaN  Wed, 1974-02-20 15:29:22        5278   \n",
       "768859   vusPfXVdZcisHEPhqNVu  Mon, 1985-03-18 13:01:17        5991   \n",
       "940655   kDaHIUNTDQdCtCpKjIyW  Wed, 1983-04-27 15:41:42        6303   \n",
       "947733                    NaN  Tue, 1972-08-22 13:40:44        6840   \n",
       "1046143  WANcaIctxfFMznhrmSsr  Sat, 2019-11-23 18:19:38        5360   \n",
       "1246782                   NaN  Mon, 2012-03-12 00:11:52        3931   \n",
       "\n",
       "         create_user               modified_dt  modified_app  modified_user  \\\n",
       "454499           615  Fri, 1983-04-29 00:02:39          7165           3765   \n",
       "506785          3339  Mon, 1971-08-23 19:40:09          1979           2797   \n",
       "525172          2026  Tue, 1992-09-08 21:27:49          6746           3999   \n",
       "665247          4813  Thu, 1982-06-03 08:10:24          8322           9376   \n",
       "758854          9007  Thu, 1989-11-16 13:51:56          7637           8649   \n",
       "768859          5730  Sat, 1973-12-15 23:22:51          7925           7119   \n",
       "940655           797  Fri, 2013-05-31 04:41:09          1272           5859   \n",
       "947733            25  Thu, 1988-11-24 12:09:50          8330           7153   \n",
       "1046143         7736  Mon, 1998-01-05 15:20:33           714            368   \n",
       "1246782         9660  Sun, 2001-03-25 16:21:49          3668           6489   \n",
       "\n",
       "         status note  \n",
       "454499        1  NaN  \n",
       "506785        1  NaN  \n",
       "525172        1  NaN  \n",
       "665247        1  NaN  \n",
       "758854        1  NaN  \n",
       "768859        1  NaN  \n",
       "940655        1  NaN  \n",
       "947733        1  NaN  \n",
       "1046143       1  NaN  \n",
       "1246782       1  NaN  "
      ]
     },
     "execution_count": 11,
     "metadata": {},
     "output_type": "execute_result"
    }
   ],
   "source": [
    "# looking at example of person with multiple emails\n",
    "cons_email[cons_email.cons_id == 8581]\n",
    "# in this case, only one of them is primary\n",
    "# So just need where is_primary == 1"
   ]
  },
  {
   "cell_type": "code",
   "execution_count": 12,
   "metadata": {},
   "outputs": [
    {
     "data": {
      "text/plain": [
       "247486    6\n",
       "670505    6\n",
       "70040     6\n",
       "159290    6\n",
       "454000    6\n",
       "         ..\n",
       "208378    1\n",
       "140359    1\n",
       "216566    1\n",
       "218613    1\n",
       "524288    1\n",
       "Name: cons_email_id, Length: 275484, dtype: int64"
      ]
     },
     "execution_count": 12,
     "metadata": {},
     "output_type": "execute_result"
    }
   ],
   "source": [
    "# does cons_ecs also have multiple rows per person?\n",
    "cons_ecs.cons_email_id.value_counts()\n",
    "# yes."
   ]
  },
  {
   "cell_type": "code",
   "execution_count": 13,
   "metadata": {},
   "outputs": [
    {
     "data": {
      "text/html": [
       "<div>\n",
       "<style scoped>\n",
       "    .dataframe tbody tr th:only-of-type {\n",
       "        vertical-align: middle;\n",
       "    }\n",
       "\n",
       "    .dataframe tbody tr th {\n",
       "        vertical-align: top;\n",
       "    }\n",
       "\n",
       "    .dataframe thead th {\n",
       "        text-align: right;\n",
       "    }\n",
       "</style>\n",
       "<table border=\"1\" class=\"dataframe\">\n",
       "  <thead>\n",
       "    <tr style=\"text-align: right;\">\n",
       "      <th></th>\n",
       "      <th>cons_email_chapter_subscription_id</th>\n",
       "      <th>cons_email_id</th>\n",
       "      <th>chapter_id</th>\n",
       "      <th>isunsub</th>\n",
       "      <th>unsub_dt</th>\n",
       "      <th>modified_dt</th>\n",
       "    </tr>\n",
       "  </thead>\n",
       "  <tbody>\n",
       "    <tr>\n",
       "      <th>2189</th>\n",
       "      <td>2190</td>\n",
       "      <td>670505</td>\n",
       "      <td>1</td>\n",
       "      <td>1</td>\n",
       "      <td>Sat, 2005-09-10 00:24:37</td>\n",
       "      <td>Tue, 1984-11-27 07:39:17</td>\n",
       "    </tr>\n",
       "    <tr>\n",
       "      <th>46094</th>\n",
       "      <td>46095</td>\n",
       "      <td>670505</td>\n",
       "      <td>2</td>\n",
       "      <td>1</td>\n",
       "      <td>Tue, 2016-12-06 04:31:58</td>\n",
       "      <td>Sun, 2012-03-18 13:44:46</td>\n",
       "    </tr>\n",
       "    <tr>\n",
       "      <th>174959</th>\n",
       "      <td>174960</td>\n",
       "      <td>670505</td>\n",
       "      <td>2</td>\n",
       "      <td>1</td>\n",
       "      <td>Sat, 2017-08-26 22:49:04</td>\n",
       "      <td>Thu, 1997-12-18 02:20:50</td>\n",
       "    </tr>\n",
       "    <tr>\n",
       "      <th>219590</th>\n",
       "      <td>219591</td>\n",
       "      <td>670505</td>\n",
       "      <td>3</td>\n",
       "      <td>0</td>\n",
       "      <td>Tue, 2017-04-25 12:05:56</td>\n",
       "      <td>Wed, 2007-10-03 11:36:32</td>\n",
       "    </tr>\n",
       "    <tr>\n",
       "      <th>299765</th>\n",
       "      <td>299766</td>\n",
       "      <td>670505</td>\n",
       "      <td>2</td>\n",
       "      <td>1</td>\n",
       "      <td>Fri, 2017-01-06 14:39:06</td>\n",
       "      <td>Sat, 1972-01-01 02:32:22</td>\n",
       "    </tr>\n",
       "    <tr>\n",
       "      <th>309709</th>\n",
       "      <td>309710</td>\n",
       "      <td>670505</td>\n",
       "      <td>4</td>\n",
       "      <td>1</td>\n",
       "      <td>Thu, 1971-10-14 13:49:41</td>\n",
       "      <td>Fri, 2018-10-19 12:42:15</td>\n",
       "    </tr>\n",
       "  </tbody>\n",
       "</table>\n",
       "</div>"
      ],
      "text/plain": [
       "        cons_email_chapter_subscription_id  cons_email_id  chapter_id  \\\n",
       "2189                                  2190         670505           1   \n",
       "46094                                46095         670505           2   \n",
       "174959                              174960         670505           2   \n",
       "219590                              219591         670505           3   \n",
       "299765                              299766         670505           2   \n",
       "309709                              309710         670505           4   \n",
       "\n",
       "        isunsub                  unsub_dt               modified_dt  \n",
       "2189          1  Sat, 2005-09-10 00:24:37  Tue, 1984-11-27 07:39:17  \n",
       "46094         1  Tue, 2016-12-06 04:31:58  Sun, 2012-03-18 13:44:46  \n",
       "174959        1  Sat, 2017-08-26 22:49:04  Thu, 1997-12-18 02:20:50  \n",
       "219590        0  Tue, 2017-04-25 12:05:56  Wed, 2007-10-03 11:36:32  \n",
       "299765        1  Fri, 2017-01-06 14:39:06  Sat, 1972-01-01 02:32:22  \n",
       "309709        1  Thu, 1971-10-14 13:49:41  Fri, 2018-10-19 12:42:15  "
      ]
     },
     "execution_count": 13,
     "metadata": {},
     "output_type": "execute_result"
    }
   ],
   "source": [
    "cons_ecs[cons_ecs.cons_email_id == 670505]"
   ]
  },
  {
   "cell_type": "code",
   "execution_count": 14,
   "metadata": {},
   "outputs": [
    {
     "data": {
      "text/plain": [
       "526335    1\n",
       "64074     1\n",
       "625252    1\n",
       "107105    1\n",
       "21087     1\n",
       "         ..\n",
       "253649    1\n",
       "210636    1\n",
       "198346    1\n",
       "204489    1\n",
       "524288    1\n",
       "Name: cons_email_id, Length: 275484, dtype: int64"
      ]
     },
     "execution_count": 14,
     "metadata": {},
     "output_type": "execute_result"
    }
   ],
   "source": [
    "cons_ecs[cons_ecs.chapter_id == 1].cons_email_id.value_counts()\n",
    "\n",
    "# It seems that for chapter_id ==1, all value counts are 1, no repeats\n",
    "# so each row represents only one instance of a person"
   ]
  },
  {
   "cell_type": "code",
   "execution_count": 15,
   "metadata": {},
   "outputs": [],
   "source": [
    "# trying out initial merge between cons_info and cons_email\n",
    "merge_draft = cons_email[cons_email.is_primary == 1][['cons_id', 'cons_email_id', 'email', 'modified_dt']].merge(\n",
    "    cons_info[['cons_id', 'create_dt', 'modified_dt']],\n",
    "    on = 'cons_id',\n",
    "    how = 'right'\n",
    ")"
   ]
  },
  {
   "cell_type": "code",
   "execution_count": 16,
   "metadata": {},
   "outputs": [
    {
     "data": {
      "text/html": [
       "<div>\n",
       "<style scoped>\n",
       "    .dataframe tbody tr th:only-of-type {\n",
       "        vertical-align: middle;\n",
       "    }\n",
       "\n",
       "    .dataframe tbody tr th {\n",
       "        vertical-align: top;\n",
       "    }\n",
       "\n",
       "    .dataframe thead th {\n",
       "        text-align: right;\n",
       "    }\n",
       "</style>\n",
       "<table border=\"1\" class=\"dataframe\">\n",
       "  <thead>\n",
       "    <tr style=\"text-align: right;\">\n",
       "      <th></th>\n",
       "      <th>cons_id</th>\n",
       "      <th>cons_email_id</th>\n",
       "      <th>email</th>\n",
       "      <th>modified_dt_x</th>\n",
       "      <th>create_dt</th>\n",
       "      <th>modified_dt_y</th>\n",
       "    </tr>\n",
       "  </thead>\n",
       "  <tbody>\n",
       "    <tr>\n",
       "      <th>0</th>\n",
       "      <td>1</td>\n",
       "      <td>546912.0</td>\n",
       "      <td>daniel72@hudson.com</td>\n",
       "      <td>Sat, 2008-05-31 02:30:35</td>\n",
       "      <td>Fri, 1983-08-26 06:02:03</td>\n",
       "      <td>Sun, 2015-12-27 09:28:02</td>\n",
       "    </tr>\n",
       "    <tr>\n",
       "      <th>1</th>\n",
       "      <td>2</td>\n",
       "      <td>415587.0</td>\n",
       "      <td>caustin@spears-carson.com</td>\n",
       "      <td>Fri, 1982-12-17 18:55:42</td>\n",
       "      <td>Mon, 1979-03-05 21:08:54</td>\n",
       "      <td>Tue, 1989-06-20 13:28:57</td>\n",
       "    </tr>\n",
       "    <tr>\n",
       "      <th>2</th>\n",
       "      <td>3</td>\n",
       "      <td>81594.0</td>\n",
       "      <td>klewis@ford.biz</td>\n",
       "      <td>Tue, 1992-03-24 07:15:14</td>\n",
       "      <td>Fri, 2008-08-22 19:20:28</td>\n",
       "      <td>Fri, 2020-06-05 18:13:57</td>\n",
       "    </tr>\n",
       "    <tr>\n",
       "      <th>3</th>\n",
       "      <td>4</td>\n",
       "      <td>NaN</td>\n",
       "      <td>NaN</td>\n",
       "      <td>NaN</td>\n",
       "      <td>Sun, 1984-04-29 11:18:18</td>\n",
       "      <td>Tue, 2012-01-31 07:26:35</td>\n",
       "    </tr>\n",
       "    <tr>\n",
       "      <th>4</th>\n",
       "      <td>5</td>\n",
       "      <td>182741.0</td>\n",
       "      <td>stephenhamilton@gmail.com</td>\n",
       "      <td>Sun, 1990-04-01 16:41:29</td>\n",
       "      <td>Thu, 2007-07-19 18:28:09</td>\n",
       "      <td>Tue, 1971-04-27 06:53:53</td>\n",
       "    </tr>\n",
       "    <tr>\n",
       "      <th>...</th>\n",
       "      <td>...</td>\n",
       "      <td>...</td>\n",
       "      <td>...</td>\n",
       "      <td>...</td>\n",
       "      <td>...</td>\n",
       "      <td>...</td>\n",
       "    </tr>\n",
       "    <tr>\n",
       "      <th>699995</th>\n",
       "      <td>699996</td>\n",
       "      <td>475997.0</td>\n",
       "      <td>cobbpatricia@anderson.biz</td>\n",
       "      <td>Sat, 1995-04-29 23:41:43</td>\n",
       "      <td>Mon, 2008-06-16 18:49:16</td>\n",
       "      <td>Sat, 1999-10-23 22:19:10</td>\n",
       "    </tr>\n",
       "    <tr>\n",
       "      <th>699996</th>\n",
       "      <td>699997</td>\n",
       "      <td>640359.0</td>\n",
       "      <td>hjones@raymond-adkins.com</td>\n",
       "      <td>Fri, 2009-05-01 07:31:20</td>\n",
       "      <td>Thu, 2001-11-15 08:04:01</td>\n",
       "      <td>Tue, 2010-08-24 07:06:01</td>\n",
       "    </tr>\n",
       "    <tr>\n",
       "      <th>699997</th>\n",
       "      <td>699998</td>\n",
       "      <td>434896.0</td>\n",
       "      <td>jennifer82@oneal.com</td>\n",
       "      <td>Thu, 1984-11-15 07:53:42</td>\n",
       "      <td>Thu, 1973-06-14 08:14:54</td>\n",
       "      <td>Fri, 1995-09-29 17:28:40</td>\n",
       "    </tr>\n",
       "    <tr>\n",
       "      <th>699998</th>\n",
       "      <td>699999</td>\n",
       "      <td>786344.0</td>\n",
       "      <td>robertodixon@wilson.net</td>\n",
       "      <td>Thu, 1974-10-24 00:31:44</td>\n",
       "      <td>Tue, 1998-06-02 01:24:00</td>\n",
       "      <td>Sun, 2014-06-01 11:16:45</td>\n",
       "    </tr>\n",
       "    <tr>\n",
       "      <th>699999</th>\n",
       "      <td>700000</td>\n",
       "      <td>92309.0</td>\n",
       "      <td>christie54@gmail.com</td>\n",
       "      <td>Sun, 1971-12-19 21:11:07</td>\n",
       "      <td>Wed, 1989-02-15 17:34:48</td>\n",
       "      <td>Thu, 2020-04-30 19:39:18</td>\n",
       "    </tr>\n",
       "  </tbody>\n",
       "</table>\n",
       "<p>700000 rows × 6 columns</p>\n",
       "</div>"
      ],
      "text/plain": [
       "        cons_id  cons_email_id                      email  \\\n",
       "0             1       546912.0        daniel72@hudson.com   \n",
       "1             2       415587.0  caustin@spears-carson.com   \n",
       "2             3        81594.0            klewis@ford.biz   \n",
       "3             4            NaN                        NaN   \n",
       "4             5       182741.0  stephenhamilton@gmail.com   \n",
       "...         ...            ...                        ...   \n",
       "699995   699996       475997.0  cobbpatricia@anderson.biz   \n",
       "699996   699997       640359.0  hjones@raymond-adkins.com   \n",
       "699997   699998       434896.0       jennifer82@oneal.com   \n",
       "699998   699999       786344.0    robertodixon@wilson.net   \n",
       "699999   700000        92309.0       christie54@gmail.com   \n",
       "\n",
       "                   modified_dt_x                 create_dt  \\\n",
       "0       Sat, 2008-05-31 02:30:35  Fri, 1983-08-26 06:02:03   \n",
       "1       Fri, 1982-12-17 18:55:42  Mon, 1979-03-05 21:08:54   \n",
       "2       Tue, 1992-03-24 07:15:14  Fri, 2008-08-22 19:20:28   \n",
       "3                            NaN  Sun, 1984-04-29 11:18:18   \n",
       "4       Sun, 1990-04-01 16:41:29  Thu, 2007-07-19 18:28:09   \n",
       "...                          ...                       ...   \n",
       "699995  Sat, 1995-04-29 23:41:43  Mon, 2008-06-16 18:49:16   \n",
       "699996  Fri, 2009-05-01 07:31:20  Thu, 2001-11-15 08:04:01   \n",
       "699997  Thu, 1984-11-15 07:53:42  Thu, 1973-06-14 08:14:54   \n",
       "699998  Thu, 1974-10-24 00:31:44  Tue, 1998-06-02 01:24:00   \n",
       "699999  Sun, 1971-12-19 21:11:07  Wed, 1989-02-15 17:34:48   \n",
       "\n",
       "                   modified_dt_y  \n",
       "0       Sun, 2015-12-27 09:28:02  \n",
       "1       Tue, 1989-06-20 13:28:57  \n",
       "2       Fri, 2020-06-05 18:13:57  \n",
       "3       Tue, 2012-01-31 07:26:35  \n",
       "4       Tue, 1971-04-27 06:53:53  \n",
       "...                          ...  \n",
       "699995  Sat, 1999-10-23 22:19:10  \n",
       "699996  Tue, 2010-08-24 07:06:01  \n",
       "699997  Fri, 1995-09-29 17:28:40  \n",
       "699998  Sun, 2014-06-01 11:16:45  \n",
       "699999  Thu, 2020-04-30 19:39:18  \n",
       "\n",
       "[700000 rows x 6 columns]"
      ]
     },
     "execution_count": 16,
     "metadata": {},
     "output_type": "execute_result"
    }
   ],
   "source": [
    "merge_draft[merge_draft.modified_dt_x != merge_draft.modified_dt_y]\n",
    "# modified_dt from these two files do not match on each other\n",
    "# sticking with modified_dt from cons_info because I believe that is what is intended\n",
    "# documented choice in README"
   ]
  },
  {
   "cell_type": "markdown",
   "metadata": {},
   "source": [
    "### Notes\n",
    "It appears that:\n",
    "- cons_info can be joined with cons_email by cons_id\n",
    "- cons_ecs can be joined with cons_ecs by cons_email_id\n",
    "- a given constituent can have multiple emails on file, but only one primary email\n",
    "- not every constituent in cons_info has a corresponding email address in cons_email\n",
    "- each row in cons_ecs[cons_ecs.chapter_id == 1] represents one instance of one constituent"
   ]
  },
  {
   "cell_type": "markdown",
   "metadata": {},
   "source": [
    "## Creating \"people\" file"
   ]
  },
  {
   "cell_type": "markdown",
   "metadata": {},
   "source": [
    "### Step 1: Join data"
   ]
  },
  {
   "cell_type": "code",
   "execution_count": 17,
   "metadata": {},
   "outputs": [],
   "source": [
    "# first merge: cons_info and cons_email (primary emails only)\n",
    "\n",
    "merge_1 = cons_email[cons_email.is_primary == 1][['cons_id', 'email', 'cons_email_id']].merge(\n",
    "    cons_info[['cons_id', 'create_dt', 'modified_dt', 'source']], on = 'cons_id', how = 'right'\n",
    ")\n",
    "# left merge preserves all relevant constituent-level data available\n",
    "# also leaves missing information as NaN"
   ]
  },
  {
   "cell_type": "code",
   "execution_count": 18,
   "metadata": {},
   "outputs": [
    {
     "data": {
      "text/html": [
       "<div>\n",
       "<style scoped>\n",
       "    .dataframe tbody tr th:only-of-type {\n",
       "        vertical-align: middle;\n",
       "    }\n",
       "\n",
       "    .dataframe tbody tr th {\n",
       "        vertical-align: top;\n",
       "    }\n",
       "\n",
       "    .dataframe thead th {\n",
       "        text-align: right;\n",
       "    }\n",
       "</style>\n",
       "<table border=\"1\" class=\"dataframe\">\n",
       "  <thead>\n",
       "    <tr style=\"text-align: right;\">\n",
       "      <th></th>\n",
       "      <th>cons_id</th>\n",
       "      <th>email</th>\n",
       "      <th>cons_email_id</th>\n",
       "      <th>create_dt</th>\n",
       "      <th>modified_dt</th>\n",
       "      <th>source</th>\n",
       "    </tr>\n",
       "  </thead>\n",
       "  <tbody>\n",
       "    <tr>\n",
       "      <th>0</th>\n",
       "      <td>1</td>\n",
       "      <td>daniel72@hudson.com</td>\n",
       "      <td>546912.0</td>\n",
       "      <td>Fri, 1983-08-26 06:02:03</td>\n",
       "      <td>Sun, 2015-12-27 09:28:02</td>\n",
       "      <td>google</td>\n",
       "    </tr>\n",
       "    <tr>\n",
       "      <th>1</th>\n",
       "      <td>2</td>\n",
       "      <td>caustin@spears-carson.com</td>\n",
       "      <td>415587.0</td>\n",
       "      <td>Mon, 1979-03-05 21:08:54</td>\n",
       "      <td>Tue, 1989-06-20 13:28:57</td>\n",
       "      <td>facebook</td>\n",
       "    </tr>\n",
       "    <tr>\n",
       "      <th>2</th>\n",
       "      <td>3</td>\n",
       "      <td>klewis@ford.biz</td>\n",
       "      <td>81594.0</td>\n",
       "      <td>Fri, 2008-08-22 19:20:28</td>\n",
       "      <td>Fri, 2020-06-05 18:13:57</td>\n",
       "      <td>NaN</td>\n",
       "    </tr>\n",
       "    <tr>\n",
       "      <th>3</th>\n",
       "      <td>4</td>\n",
       "      <td>NaN</td>\n",
       "      <td>NaN</td>\n",
       "      <td>Sun, 1984-04-29 11:18:18</td>\n",
       "      <td>Tue, 2012-01-31 07:26:35</td>\n",
       "      <td>google</td>\n",
       "    </tr>\n",
       "    <tr>\n",
       "      <th>4</th>\n",
       "      <td>5</td>\n",
       "      <td>stephenhamilton@gmail.com</td>\n",
       "      <td>182741.0</td>\n",
       "      <td>Thu, 2007-07-19 18:28:09</td>\n",
       "      <td>Tue, 1971-04-27 06:53:53</td>\n",
       "      <td>NaN</td>\n",
       "    </tr>\n",
       "  </tbody>\n",
       "</table>\n",
       "</div>"
      ],
      "text/plain": [
       "   cons_id                      email  cons_email_id  \\\n",
       "0        1        daniel72@hudson.com       546912.0   \n",
       "1        2  caustin@spears-carson.com       415587.0   \n",
       "2        3            klewis@ford.biz        81594.0   \n",
       "3        4                        NaN            NaN   \n",
       "4        5  stephenhamilton@gmail.com       182741.0   \n",
       "\n",
       "                  create_dt               modified_dt    source  \n",
       "0  Fri, 1983-08-26 06:02:03  Sun, 2015-12-27 09:28:02    google  \n",
       "1  Mon, 1979-03-05 21:08:54  Tue, 1989-06-20 13:28:57  facebook  \n",
       "2  Fri, 2008-08-22 19:20:28  Fri, 2020-06-05 18:13:57       NaN  \n",
       "3  Sun, 1984-04-29 11:18:18  Tue, 2012-01-31 07:26:35    google  \n",
       "4  Thu, 2007-07-19 18:28:09  Tue, 1971-04-27 06:53:53       NaN  "
      ]
     },
     "execution_count": 18,
     "metadata": {},
     "output_type": "execute_result"
    }
   ],
   "source": [
    "merge_1.head()"
   ]
  },
  {
   "cell_type": "code",
   "execution_count": 19,
   "metadata": {},
   "outputs": [],
   "source": [
    "# second merge: merge_1 and cons_ecs\n",
    "# \"We only care about subscription statuses where chapter_id is 1.\"\n",
    "# so only using cons_ecs[cons_ecs.chapter_id == 1]\n",
    "\n",
    "merge_2 = merge_1.merge(\n",
    "    cons_ecs[cons_ecs.chapter_id == 1][['cons_email_id', 'isunsub']], on = 'cons_email_id', how = 'left'\n",
    ")\n",
    "# again, left merge preserves all relevant constituent-level data available\n",
    "# and leaves missing information as NaN"
   ]
  },
  {
   "cell_type": "markdown",
   "metadata": {},
   "source": [
    "### Step 2: Create \"people\" dataframe"
   ]
  },
  {
   "cell_type": "code",
   "execution_count": 20,
   "metadata": {},
   "outputs": [],
   "source": [
    "# removing original merge fields\n",
    "people = merge_2.drop(columns = ['cons_email_id', 'cons_id']) "
   ]
  },
  {
   "cell_type": "markdown",
   "metadata": {},
   "source": [
    "### Step 3: substitute isunsub NaN's with 1"
   ]
  },
  {
   "cell_type": "code",
   "execution_count": 21,
   "metadata": {},
   "outputs": [
    {
     "data": {
      "text/html": [
       "<div>\n",
       "<style scoped>\n",
       "    .dataframe tbody tr th:only-of-type {\n",
       "        vertical-align: middle;\n",
       "    }\n",
       "\n",
       "    .dataframe tbody tr th {\n",
       "        vertical-align: top;\n",
       "    }\n",
       "\n",
       "    .dataframe thead th {\n",
       "        text-align: right;\n",
       "    }\n",
       "</style>\n",
       "<table border=\"1\" class=\"dataframe\">\n",
       "  <thead>\n",
       "    <tr style=\"text-align: right;\">\n",
       "      <th></th>\n",
       "      <th>email</th>\n",
       "      <th>create_dt</th>\n",
       "      <th>modified_dt</th>\n",
       "      <th>source</th>\n",
       "      <th>isunsub</th>\n",
       "    </tr>\n",
       "  </thead>\n",
       "  <tbody>\n",
       "    <tr>\n",
       "      <th>0</th>\n",
       "      <td>daniel72@hudson.com</td>\n",
       "      <td>Fri, 1983-08-26 06:02:03</td>\n",
       "      <td>Sun, 2015-12-27 09:28:02</td>\n",
       "      <td>google</td>\n",
       "      <td>NaN</td>\n",
       "    </tr>\n",
       "    <tr>\n",
       "      <th>3</th>\n",
       "      <td>NaN</td>\n",
       "      <td>Sun, 1984-04-29 11:18:18</td>\n",
       "      <td>Tue, 2012-01-31 07:26:35</td>\n",
       "      <td>google</td>\n",
       "      <td>NaN</td>\n",
       "    </tr>\n",
       "    <tr>\n",
       "      <th>5</th>\n",
       "      <td>henryherring@gmail.com</td>\n",
       "      <td>Sat, 2014-02-15 22:54:27</td>\n",
       "      <td>Fri, 1999-11-12 06:09:25</td>\n",
       "      <td>google</td>\n",
       "      <td>NaN</td>\n",
       "    </tr>\n",
       "    <tr>\n",
       "      <th>6</th>\n",
       "      <td>perrymatthew@campbell.com</td>\n",
       "      <td>Thu, 1979-03-01 16:12:55</td>\n",
       "      <td>Wed, 2019-03-13 02:52:10</td>\n",
       "      <td>NaN</td>\n",
       "      <td>NaN</td>\n",
       "    </tr>\n",
       "    <tr>\n",
       "      <th>7</th>\n",
       "      <td>tonifranklin@yahoo.com</td>\n",
       "      <td>Tue, 2002-07-30 22:28:38</td>\n",
       "      <td>Sat, 1983-07-16 18:30:07</td>\n",
       "      <td>twitter</td>\n",
       "      <td>NaN</td>\n",
       "    </tr>\n",
       "    <tr>\n",
       "      <th>...</th>\n",
       "      <td>...</td>\n",
       "      <td>...</td>\n",
       "      <td>...</td>\n",
       "      <td>...</td>\n",
       "      <td>...</td>\n",
       "    </tr>\n",
       "    <tr>\n",
       "      <th>699994</th>\n",
       "      <td>smithoscar@navarro.com</td>\n",
       "      <td>Tue, 2003-10-21 04:59:43</td>\n",
       "      <td>Thu, 2010-11-18 23:11:46</td>\n",
       "      <td>facebook</td>\n",
       "      <td>NaN</td>\n",
       "    </tr>\n",
       "    <tr>\n",
       "      <th>699995</th>\n",
       "      <td>cobbpatricia@anderson.biz</td>\n",
       "      <td>Mon, 2008-06-16 18:49:16</td>\n",
       "      <td>Sat, 1999-10-23 22:19:10</td>\n",
       "      <td>NaN</td>\n",
       "      <td>NaN</td>\n",
       "    </tr>\n",
       "    <tr>\n",
       "      <th>699997</th>\n",
       "      <td>jennifer82@oneal.com</td>\n",
       "      <td>Thu, 1973-06-14 08:14:54</td>\n",
       "      <td>Fri, 1995-09-29 17:28:40</td>\n",
       "      <td>twitter</td>\n",
       "      <td>NaN</td>\n",
       "    </tr>\n",
       "    <tr>\n",
       "      <th>699998</th>\n",
       "      <td>robertodixon@wilson.net</td>\n",
       "      <td>Tue, 1998-06-02 01:24:00</td>\n",
       "      <td>Sun, 2014-06-01 11:16:45</td>\n",
       "      <td>google</td>\n",
       "      <td>NaN</td>\n",
       "    </tr>\n",
       "    <tr>\n",
       "      <th>699999</th>\n",
       "      <td>christie54@gmail.com</td>\n",
       "      <td>Wed, 1989-02-15 17:34:48</td>\n",
       "      <td>Thu, 2020-04-30 19:39:18</td>\n",
       "      <td>NaN</td>\n",
       "      <td>NaN</td>\n",
       "    </tr>\n",
       "  </tbody>\n",
       "</table>\n",
       "<p>526010 rows × 5 columns</p>\n",
       "</div>"
      ],
      "text/plain": [
       "                            email                 create_dt  \\\n",
       "0             daniel72@hudson.com  Fri, 1983-08-26 06:02:03   \n",
       "3                             NaN  Sun, 1984-04-29 11:18:18   \n",
       "5          henryherring@gmail.com  Sat, 2014-02-15 22:54:27   \n",
       "6       perrymatthew@campbell.com  Thu, 1979-03-01 16:12:55   \n",
       "7          tonifranklin@yahoo.com  Tue, 2002-07-30 22:28:38   \n",
       "...                           ...                       ...   \n",
       "699994     smithoscar@navarro.com  Tue, 2003-10-21 04:59:43   \n",
       "699995  cobbpatricia@anderson.biz  Mon, 2008-06-16 18:49:16   \n",
       "699997       jennifer82@oneal.com  Thu, 1973-06-14 08:14:54   \n",
       "699998    robertodixon@wilson.net  Tue, 1998-06-02 01:24:00   \n",
       "699999       christie54@gmail.com  Wed, 1989-02-15 17:34:48   \n",
       "\n",
       "                     modified_dt    source  isunsub  \n",
       "0       Sun, 2015-12-27 09:28:02    google      NaN  \n",
       "3       Tue, 2012-01-31 07:26:35    google      NaN  \n",
       "5       Fri, 1999-11-12 06:09:25    google      NaN  \n",
       "6       Wed, 2019-03-13 02:52:10       NaN      NaN  \n",
       "7       Sat, 1983-07-16 18:30:07   twitter      NaN  \n",
       "...                          ...       ...      ...  \n",
       "699994  Thu, 2010-11-18 23:11:46  facebook      NaN  \n",
       "699995  Sat, 1999-10-23 22:19:10       NaN      NaN  \n",
       "699997  Fri, 1995-09-29 17:28:40   twitter      NaN  \n",
       "699998  Sun, 2014-06-01 11:16:45    google      NaN  \n",
       "699999  Thu, 2020-04-30 19:39:18       NaN      NaN  \n",
       "\n",
       "[526010 rows x 5 columns]"
      ]
     },
     "execution_count": 21,
     "metadata": {},
     "output_type": "execute_result"
    }
   ],
   "source": [
    "# \"If an email is not present in this table, it is assumed to still be subscribed where chapter_id is 1.\"\n",
    "people[people.isunsub.isna()]\n",
    "# 526010 NaNs need to be replaced with \"1\""
   ]
  },
  {
   "cell_type": "code",
   "execution_count": 22,
   "metadata": {},
   "outputs": [],
   "source": [
    "# referenced https://stackoverflow.com/questions/944700/how-can-i-check-for-nan-values for np.isnan() function\n",
    "\n",
    "people.isunsub = people.isunsub.apply(lambda x: 1 if np.isnan(x) else x)"
   ]
  },
  {
   "cell_type": "code",
   "execution_count": 23,
   "metadata": {},
   "outputs": [
    {
     "data": {
      "text/html": [
       "<div>\n",
       "<style scoped>\n",
       "    .dataframe tbody tr th:only-of-type {\n",
       "        vertical-align: middle;\n",
       "    }\n",
       "\n",
       "    .dataframe tbody tr th {\n",
       "        vertical-align: top;\n",
       "    }\n",
       "\n",
       "    .dataframe thead th {\n",
       "        text-align: right;\n",
       "    }\n",
       "</style>\n",
       "<table border=\"1\" class=\"dataframe\">\n",
       "  <thead>\n",
       "    <tr style=\"text-align: right;\">\n",
       "      <th></th>\n",
       "      <th>email</th>\n",
       "      <th>create_dt</th>\n",
       "      <th>modified_dt</th>\n",
       "      <th>source</th>\n",
       "      <th>isunsub</th>\n",
       "    </tr>\n",
       "  </thead>\n",
       "  <tbody>\n",
       "    <tr>\n",
       "      <th>0</th>\n",
       "      <td>daniel72@hudson.com</td>\n",
       "      <td>Fri, 1983-08-26 06:02:03</td>\n",
       "      <td>Sun, 2015-12-27 09:28:02</td>\n",
       "      <td>google</td>\n",
       "      <td>1.0</td>\n",
       "    </tr>\n",
       "    <tr>\n",
       "      <th>1</th>\n",
       "      <td>caustin@spears-carson.com</td>\n",
       "      <td>Mon, 1979-03-05 21:08:54</td>\n",
       "      <td>Tue, 1989-06-20 13:28:57</td>\n",
       "      <td>facebook</td>\n",
       "      <td>1.0</td>\n",
       "    </tr>\n",
       "    <tr>\n",
       "      <th>2</th>\n",
       "      <td>klewis@ford.biz</td>\n",
       "      <td>Fri, 2008-08-22 19:20:28</td>\n",
       "      <td>Fri, 2020-06-05 18:13:57</td>\n",
       "      <td>NaN</td>\n",
       "      <td>1.0</td>\n",
       "    </tr>\n",
       "    <tr>\n",
       "      <th>3</th>\n",
       "      <td>NaN</td>\n",
       "      <td>Sun, 1984-04-29 11:18:18</td>\n",
       "      <td>Tue, 2012-01-31 07:26:35</td>\n",
       "      <td>google</td>\n",
       "      <td>1.0</td>\n",
       "    </tr>\n",
       "    <tr>\n",
       "      <th>4</th>\n",
       "      <td>stephenhamilton@gmail.com</td>\n",
       "      <td>Thu, 2007-07-19 18:28:09</td>\n",
       "      <td>Tue, 1971-04-27 06:53:53</td>\n",
       "      <td>NaN</td>\n",
       "      <td>1.0</td>\n",
       "    </tr>\n",
       "  </tbody>\n",
       "</table>\n",
       "</div>"
      ],
      "text/plain": [
       "                       email                 create_dt  \\\n",
       "0        daniel72@hudson.com  Fri, 1983-08-26 06:02:03   \n",
       "1  caustin@spears-carson.com  Mon, 1979-03-05 21:08:54   \n",
       "2            klewis@ford.biz  Fri, 2008-08-22 19:20:28   \n",
       "3                        NaN  Sun, 1984-04-29 11:18:18   \n",
       "4  stephenhamilton@gmail.com  Thu, 2007-07-19 18:28:09   \n",
       "\n",
       "                modified_dt    source  isunsub  \n",
       "0  Sun, 2015-12-27 09:28:02    google      1.0  \n",
       "1  Tue, 1989-06-20 13:28:57  facebook      1.0  \n",
       "2  Fri, 2020-06-05 18:13:57       NaN      1.0  \n",
       "3  Tue, 2012-01-31 07:26:35    google      1.0  \n",
       "4  Tue, 1971-04-27 06:53:53       NaN      1.0  "
      ]
     },
     "execution_count": 23,
     "metadata": {},
     "output_type": "execute_result"
    }
   ],
   "source": [
    "people.head()"
   ]
  },
  {
   "cell_type": "markdown",
   "metadata": {},
   "source": [
    "### Step 4: transform to correct data types"
   ]
  },
  {
   "cell_type": "code",
   "execution_count": 24,
   "metadata": {},
   "outputs": [
    {
     "data": {
      "text/plain": [
       "email           object\n",
       "create_dt       object\n",
       "modified_dt     object\n",
       "source          object\n",
       "isunsub        float64\n",
       "dtype: object"
      ]
     },
     "execution_count": 24,
     "metadata": {},
     "output_type": "execute_result"
    }
   ],
   "source": [
    "# looks like not all columns are in the correct format\n",
    "people.dtypes"
   ]
  },
  {
   "cell_type": "code",
   "execution_count": 25,
   "metadata": {},
   "outputs": [],
   "source": [
    "# boolean should be int, less confusing this way\n",
    "people.isunsub = people.isunsub.astype(int) "
   ]
  },
  {
   "cell_type": "code",
   "execution_count": 26,
   "metadata": {},
   "outputs": [],
   "source": [
    "# change *_dt fields to actual pandas datetime format\n",
    "\n",
    "people.create_dt = people.create_dt.apply(lambda x: pd.to_datetime(x.split(',')[1]))\n",
    "people.modified_dt = people.modified_dt.apply(lambda x: pd.to_datetime(x.split(',')[1]))"
   ]
  },
  {
   "cell_type": "code",
   "execution_count": 27,
   "metadata": {},
   "outputs": [
    {
     "data": {
      "text/plain": [
       "email                  object\n",
       "create_dt      datetime64[ns]\n",
       "modified_dt    datetime64[ns]\n",
       "source                 object\n",
       "isunsub                 int64\n",
       "dtype: object"
      ]
     },
     "execution_count": 27,
     "metadata": {},
     "output_type": "execute_result"
    }
   ],
   "source": [
    "# dtypes are now correct\n",
    "\n",
    "people.dtypes"
   ]
  },
  {
   "cell_type": "markdown",
   "metadata": {},
   "source": [
    "### Step 5: format dataframe correctly"
   ]
  },
  {
   "cell_type": "code",
   "execution_count": 28,
   "metadata": {},
   "outputs": [],
   "source": [
    "# putting columns in correct order\n",
    "\n",
    "people = people[['email', 'source', 'isunsub', 'create_dt', 'modified_dt']]"
   ]
  },
  {
   "cell_type": "code",
   "execution_count": 29,
   "metadata": {},
   "outputs": [],
   "source": [
    "# renaming columns to correct names\n",
    "people = people.rename(columns = {\n",
    "    'source': 'code', 'isunsub': 'is_unsub', 'modified_dt': 'updated_dt'\n",
    "})"
   ]
  },
  {
   "cell_type": "code",
   "execution_count": 30,
   "metadata": {},
   "outputs": [
    {
     "data": {
      "text/html": [
       "<div>\n",
       "<style scoped>\n",
       "    .dataframe tbody tr th:only-of-type {\n",
       "        vertical-align: middle;\n",
       "    }\n",
       "\n",
       "    .dataframe tbody tr th {\n",
       "        vertical-align: top;\n",
       "    }\n",
       "\n",
       "    .dataframe thead th {\n",
       "        text-align: right;\n",
       "    }\n",
       "</style>\n",
       "<table border=\"1\" class=\"dataframe\">\n",
       "  <thead>\n",
       "    <tr style=\"text-align: right;\">\n",
       "      <th></th>\n",
       "      <th>email</th>\n",
       "      <th>code</th>\n",
       "      <th>is_unsub</th>\n",
       "      <th>create_dt</th>\n",
       "      <th>updated_dt</th>\n",
       "    </tr>\n",
       "  </thead>\n",
       "  <tbody>\n",
       "    <tr>\n",
       "      <th>699995</th>\n",
       "      <td>cobbpatricia@anderson.biz</td>\n",
       "      <td>NaN</td>\n",
       "      <td>1</td>\n",
       "      <td>2008-06-16 18:49:16</td>\n",
       "      <td>1999-10-23 22:19:10</td>\n",
       "    </tr>\n",
       "    <tr>\n",
       "      <th>699996</th>\n",
       "      <td>hjones@raymond-adkins.com</td>\n",
       "      <td>NaN</td>\n",
       "      <td>1</td>\n",
       "      <td>2001-11-15 08:04:01</td>\n",
       "      <td>2010-08-24 07:06:01</td>\n",
       "    </tr>\n",
       "    <tr>\n",
       "      <th>699997</th>\n",
       "      <td>jennifer82@oneal.com</td>\n",
       "      <td>twitter</td>\n",
       "      <td>1</td>\n",
       "      <td>1973-06-14 08:14:54</td>\n",
       "      <td>1995-09-29 17:28:40</td>\n",
       "    </tr>\n",
       "    <tr>\n",
       "      <th>699998</th>\n",
       "      <td>robertodixon@wilson.net</td>\n",
       "      <td>google</td>\n",
       "      <td>1</td>\n",
       "      <td>1998-06-02 01:24:00</td>\n",
       "      <td>2014-06-01 11:16:45</td>\n",
       "    </tr>\n",
       "    <tr>\n",
       "      <th>699999</th>\n",
       "      <td>christie54@gmail.com</td>\n",
       "      <td>NaN</td>\n",
       "      <td>1</td>\n",
       "      <td>1989-02-15 17:34:48</td>\n",
       "      <td>2020-04-30 19:39:18</td>\n",
       "    </tr>\n",
       "  </tbody>\n",
       "</table>\n",
       "</div>"
      ],
      "text/plain": [
       "                            email     code  is_unsub           create_dt  \\\n",
       "699995  cobbpatricia@anderson.biz      NaN         1 2008-06-16 18:49:16   \n",
       "699996  hjones@raymond-adkins.com      NaN         1 2001-11-15 08:04:01   \n",
       "699997       jennifer82@oneal.com  twitter         1 1973-06-14 08:14:54   \n",
       "699998    robertodixon@wilson.net   google         1 1998-06-02 01:24:00   \n",
       "699999       christie54@gmail.com      NaN         1 1989-02-15 17:34:48   \n",
       "\n",
       "                updated_dt  \n",
       "699995 1999-10-23 22:19:10  \n",
       "699996 2010-08-24 07:06:01  \n",
       "699997 1995-09-29 17:28:40  \n",
       "699998 2014-06-01 11:16:45  \n",
       "699999 2020-04-30 19:39:18  "
      ]
     },
     "execution_count": 30,
     "metadata": {},
     "output_type": "execute_result"
    }
   ],
   "source": [
    "people.tail() # looks good!"
   ]
  },
  {
   "cell_type": "markdown",
   "metadata": {},
   "source": [
    "### Step 6: Export to CSV"
   ]
  },
  {
   "cell_type": "code",
   "execution_count": 31,
   "metadata": {},
   "outputs": [],
   "source": [
    "people.to_csv('people.csv', index = False)"
   ]
  },
  {
   "cell_type": "markdown",
   "metadata": {},
   "source": [
    "## Creating \"acquistion_facts\" file"
   ]
  },
  {
   "cell_type": "markdown",
   "metadata": {},
   "source": [
    "### Step 1: Extract revelent information from \"people\" dataframe"
   ]
  },
  {
   "cell_type": "code",
   "execution_count": 32,
   "metadata": {},
   "outputs": [],
   "source": [
    "# only need email and create_dt\n",
    "acq_facts = people[['email', 'create_dt']]"
   ]
  },
  {
   "cell_type": "markdown",
   "metadata": {},
   "source": [
    "### Step 2: Create acquisition_date and transform to date"
   ]
  },
  {
   "cell_type": "code",
   "execution_count": 33,
   "metadata": {},
   "outputs": [
    {
     "name": "stderr",
     "output_type": "stream",
     "text": [
      "<ipython-input-33-2e24dfc1d56d>:1: SettingWithCopyWarning: \n",
      "A value is trying to be set on a copy of a slice from a DataFrame.\n",
      "Try using .loc[row_indexer,col_indexer] = value instead\n",
      "\n",
      "See the caveats in the documentation: https://pandas.pydata.org/pandas-docs/stable/user_guide/indexing.html#returning-a-view-versus-a-copy\n",
      "  acq_facts['acquisition_date'] = acq_facts.create_dt.dt.date\n"
     ]
    }
   ],
   "source": [
    "# just need date (not datetime) for acquisition>date\n",
    "acq_facts['acquisition_date'] = acq_facts.create_dt.dt.date"
   ]
  },
  {
   "cell_type": "code",
   "execution_count": 34,
   "metadata": {},
   "outputs": [],
   "source": [
    "# this column is no longer needed\n",
    "acq_facts = acq_facts.drop(columns = 'create_dt')"
   ]
  },
  {
   "cell_type": "markdown",
   "metadata": {},
   "source": [
    "### Step 3: Transform acq_facts into date and count of acquisitions on date"
   ]
  },
  {
   "cell_type": "code",
   "execution_count": 35,
   "metadata": {},
   "outputs": [],
   "source": [
    "# take value_counts() output and make into new dataframe with correct column names\n",
    "acq_facts = pd.DataFrame(acq_facts.acquisition_date.value_counts().reset_index().rename(\n",
    "    columns = {'acquisition_date': 'acquisitions', 'index': 'acquisition_date'}\n",
    "))"
   ]
  },
  {
   "cell_type": "code",
   "execution_count": 36,
   "metadata": {},
   "outputs": [],
   "source": [
    "# sort the data by date for more intuitive organization\n",
    "acq_facts.sort_values('acquisition_date', inplace = True)"
   ]
  },
  {
   "cell_type": "code",
   "execution_count": 37,
   "metadata": {},
   "outputs": [
    {
     "data": {
      "text/html": [
       "<div>\n",
       "<style scoped>\n",
       "    .dataframe tbody tr th:only-of-type {\n",
       "        vertical-align: middle;\n",
       "    }\n",
       "\n",
       "    .dataframe tbody tr th {\n",
       "        vertical-align: top;\n",
       "    }\n",
       "\n",
       "    .dataframe thead th {\n",
       "        text-align: right;\n",
       "    }\n",
       "</style>\n",
       "<table border=\"1\" class=\"dataframe\">\n",
       "  <thead>\n",
       "    <tr style=\"text-align: right;\">\n",
       "      <th></th>\n",
       "      <th>acquisition_date</th>\n",
       "      <th>acquisitions</th>\n",
       "    </tr>\n",
       "  </thead>\n",
       "  <tbody>\n",
       "    <tr>\n",
       "      <th>13264</th>\n",
       "      <td>1970-01-01</td>\n",
       "      <td>34</td>\n",
       "    </tr>\n",
       "    <tr>\n",
       "      <th>8582</th>\n",
       "      <td>1970-01-02</td>\n",
       "      <td>38</td>\n",
       "    </tr>\n",
       "    <tr>\n",
       "      <th>15423</th>\n",
       "      <td>1970-01-03</td>\n",
       "      <td>32</td>\n",
       "    </tr>\n",
       "    <tr>\n",
       "      <th>7253</th>\n",
       "      <td>1970-01-04</td>\n",
       "      <td>39</td>\n",
       "    </tr>\n",
       "    <tr>\n",
       "      <th>3251</th>\n",
       "      <td>1970-01-05</td>\n",
       "      <td>44</td>\n",
       "    </tr>\n",
       "  </tbody>\n",
       "</table>\n",
       "</div>"
      ],
      "text/plain": [
       "      acquisition_date  acquisitions\n",
       "13264       1970-01-01            34\n",
       "8582        1970-01-02            38\n",
       "15423       1970-01-03            32\n",
       "7253        1970-01-04            39\n",
       "3251        1970-01-05            44"
      ]
     },
     "execution_count": 37,
     "metadata": {},
     "output_type": "execute_result"
    }
   ],
   "source": [
    "acq_facts.head() # looks good!"
   ]
  },
  {
   "cell_type": "markdown",
   "metadata": {},
   "source": [
    "### Step 4: Write acq_facts to CSV"
   ]
  },
  {
   "cell_type": "code",
   "execution_count": 38,
   "metadata": {},
   "outputs": [],
   "source": [
    "acq_facts.to_csv('acquisition_facts.csv', index = False)"
   ]
  },
  {
   "cell_type": "markdown",
   "metadata": {},
   "source": [
    "## Example of exploratory analysis"
   ]
  },
  {
   "cell_type": "code",
   "execution_count": 2,
   "metadata": {},
   "outputs": [],
   "source": [
    "people = pd.read_csv('people.csv')"
   ]
  },
  {
   "cell_type": "code",
   "execution_count": 3,
   "metadata": {},
   "outputs": [
    {
     "data": {
      "text/html": [
       "<div>\n",
       "<style scoped>\n",
       "    .dataframe tbody tr th:only-of-type {\n",
       "        vertical-align: middle;\n",
       "    }\n",
       "\n",
       "    .dataframe tbody tr th {\n",
       "        vertical-align: top;\n",
       "    }\n",
       "\n",
       "    .dataframe thead th {\n",
       "        text-align: right;\n",
       "    }\n",
       "</style>\n",
       "<table border=\"1\" class=\"dataframe\">\n",
       "  <thead>\n",
       "    <tr style=\"text-align: right;\">\n",
       "      <th></th>\n",
       "      <th>email</th>\n",
       "      <th>code</th>\n",
       "      <th>is_unsub</th>\n",
       "      <th>create_dt</th>\n",
       "      <th>updated_dt</th>\n",
       "    </tr>\n",
       "  </thead>\n",
       "  <tbody>\n",
       "    <tr>\n",
       "      <th>0</th>\n",
       "      <td>daniel72@hudson.com</td>\n",
       "      <td>google</td>\n",
       "      <td>1</td>\n",
       "      <td>1983-08-26 06:02:03</td>\n",
       "      <td>2015-12-27 09:28:02</td>\n",
       "    </tr>\n",
       "    <tr>\n",
       "      <th>1</th>\n",
       "      <td>caustin@spears-carson.com</td>\n",
       "      <td>facebook</td>\n",
       "      <td>1</td>\n",
       "      <td>1979-03-05 21:08:54</td>\n",
       "      <td>1989-06-20 13:28:57</td>\n",
       "    </tr>\n",
       "    <tr>\n",
       "      <th>2</th>\n",
       "      <td>klewis@ford.biz</td>\n",
       "      <td>NaN</td>\n",
       "      <td>1</td>\n",
       "      <td>2008-08-22 19:20:28</td>\n",
       "      <td>2020-06-05 18:13:57</td>\n",
       "    </tr>\n",
       "    <tr>\n",
       "      <th>3</th>\n",
       "      <td>NaN</td>\n",
       "      <td>google</td>\n",
       "      <td>1</td>\n",
       "      <td>1984-04-29 11:18:18</td>\n",
       "      <td>2012-01-31 07:26:35</td>\n",
       "    </tr>\n",
       "    <tr>\n",
       "      <th>4</th>\n",
       "      <td>stephenhamilton@gmail.com</td>\n",
       "      <td>NaN</td>\n",
       "      <td>1</td>\n",
       "      <td>2007-07-19 18:28:09</td>\n",
       "      <td>1971-04-27 06:53:53</td>\n",
       "    </tr>\n",
       "    <tr>\n",
       "      <th>...</th>\n",
       "      <td>...</td>\n",
       "      <td>...</td>\n",
       "      <td>...</td>\n",
       "      <td>...</td>\n",
       "      <td>...</td>\n",
       "    </tr>\n",
       "    <tr>\n",
       "      <th>699995</th>\n",
       "      <td>cobbpatricia@anderson.biz</td>\n",
       "      <td>NaN</td>\n",
       "      <td>1</td>\n",
       "      <td>2008-06-16 18:49:16</td>\n",
       "      <td>1999-10-23 22:19:10</td>\n",
       "    </tr>\n",
       "    <tr>\n",
       "      <th>699996</th>\n",
       "      <td>hjones@raymond-adkins.com</td>\n",
       "      <td>NaN</td>\n",
       "      <td>1</td>\n",
       "      <td>2001-11-15 08:04:01</td>\n",
       "      <td>2010-08-24 07:06:01</td>\n",
       "    </tr>\n",
       "    <tr>\n",
       "      <th>699997</th>\n",
       "      <td>jennifer82@oneal.com</td>\n",
       "      <td>twitter</td>\n",
       "      <td>1</td>\n",
       "      <td>1973-06-14 08:14:54</td>\n",
       "      <td>1995-09-29 17:28:40</td>\n",
       "    </tr>\n",
       "    <tr>\n",
       "      <th>699998</th>\n",
       "      <td>robertodixon@wilson.net</td>\n",
       "      <td>google</td>\n",
       "      <td>1</td>\n",
       "      <td>1998-06-02 01:24:00</td>\n",
       "      <td>2014-06-01 11:16:45</td>\n",
       "    </tr>\n",
       "    <tr>\n",
       "      <th>699999</th>\n",
       "      <td>christie54@gmail.com</td>\n",
       "      <td>NaN</td>\n",
       "      <td>1</td>\n",
       "      <td>1989-02-15 17:34:48</td>\n",
       "      <td>2020-04-30 19:39:18</td>\n",
       "    </tr>\n",
       "  </tbody>\n",
       "</table>\n",
       "<p>700000 rows × 5 columns</p>\n",
       "</div>"
      ],
      "text/plain": [
       "                            email      code  is_unsub            create_dt  \\\n",
       "0             daniel72@hudson.com    google         1  1983-08-26 06:02:03   \n",
       "1       caustin@spears-carson.com  facebook         1  1979-03-05 21:08:54   \n",
       "2                 klewis@ford.biz       NaN         1  2008-08-22 19:20:28   \n",
       "3                             NaN    google         1  1984-04-29 11:18:18   \n",
       "4       stephenhamilton@gmail.com       NaN         1  2007-07-19 18:28:09   \n",
       "...                           ...       ...       ...                  ...   \n",
       "699995  cobbpatricia@anderson.biz       NaN         1  2008-06-16 18:49:16   \n",
       "699996  hjones@raymond-adkins.com       NaN         1  2001-11-15 08:04:01   \n",
       "699997       jennifer82@oneal.com   twitter         1  1973-06-14 08:14:54   \n",
       "699998    robertodixon@wilson.net    google         1  1998-06-02 01:24:00   \n",
       "699999       christie54@gmail.com       NaN         1  1989-02-15 17:34:48   \n",
       "\n",
       "                 updated_dt  \n",
       "0       2015-12-27 09:28:02  \n",
       "1       1989-06-20 13:28:57  \n",
       "2       2020-06-05 18:13:57  \n",
       "3       2012-01-31 07:26:35  \n",
       "4       1971-04-27 06:53:53  \n",
       "...                     ...  \n",
       "699995  1999-10-23 22:19:10  \n",
       "699996  2010-08-24 07:06:01  \n",
       "699997  1995-09-29 17:28:40  \n",
       "699998  2014-06-01 11:16:45  \n",
       "699999  2020-04-30 19:39:18  \n",
       "\n",
       "[700000 rows x 5 columns]"
      ]
     },
     "execution_count": 3,
     "metadata": {},
     "output_type": "execute_result"
    }
   ],
   "source": [
    "people"
   ]
  },
  {
   "cell_type": "code",
   "execution_count": 17,
   "metadata": {},
   "outputs": [],
   "source": [
    "people_vis_df = pd.DataFrame(people.code.value_counts(dropna = False)\n",
    "    ).reset_index(\n",
    "    ).rename(columns = {'index': 'Source', 'code': 'Number of acquisitions'}\n",
    "    ).fillna('unknown')"
   ]
  },
  {
   "cell_type": "code",
   "execution_count": 24,
   "metadata": {},
   "outputs": [
    {
     "data": {
      "image/png": "[encoded data removed]",
      "text/plain": [
       "<Figure size 432x288 with 1 Axes>"
      ]
     },
     "metadata": {
      "needs_background": "light"
     },
     "output_type": "display_data"
    }
   ],
   "source": [
    "colors = ['red' if x == 'unknown' else 'grey' for x in people_vis_df['Source']]\n",
    "\n",
    "plt.figure()\n",
    "sns.barplot(y = people_vis_df['Source'],\n",
    "            x = people_vis_df['Number of acquisitions'],\n",
    "           palette = colors)\n",
    "plt.title('Sources of acquisitions\\n')\n",
    "plt.show()"
   ]
  },
  {
   "cell_type": "code",
   "execution_count": 4,
   "metadata": {},
   "outputs": [],
   "source": [
    "acquisition_facts = pd.read_csv('acquisition_facts.csv')"
   ]
  },
  {
   "cell_type": "code",
   "execution_count": null,
   "metadata": {},
   "outputs": [],
   "source": [
    "acquisition_facts"
   ]
  },
  {
   "cell_type": "code",
   "execution_count": 11,
   "metadata": {},
   "outputs": [],
   "source": [
    "acquisition_facts.acquisition_date = acquisition_facts.acquisition_date.apply(\n",
    "    lambda x: pd.to_datetime(x)\n",
    ")"
   ]
  },
  {
   "cell_type": "code",
   "execution_count": 12,
   "metadata": {},
   "outputs": [
    {
     "data": {
      "text/html": [
       "<div>\n",
       "<style scoped>\n",
       "    .dataframe tbody tr th:only-of-type {\n",
       "        vertical-align: middle;\n",
       "    }\n",
       "\n",
       "    .dataframe tbody tr th {\n",
       "        vertical-align: top;\n",
       "    }\n",
       "\n",
       "    .dataframe thead th {\n",
       "        text-align: right;\n",
       "    }\n",
       "</style>\n",
       "<table border=\"1\" class=\"dataframe\">\n",
       "  <thead>\n",
       "    <tr style=\"text-align: right;\">\n",
       "      <th></th>\n",
       "      <th>acquisition_date</th>\n",
       "      <th>acquisitions</th>\n",
       "    </tr>\n",
       "  </thead>\n",
       "  <tbody>\n",
       "    <tr>\n",
       "      <th>0</th>\n",
       "      <td>1970-01-01</td>\n",
       "      <td>34</td>\n",
       "    </tr>\n",
       "    <tr>\n",
       "      <th>1</th>\n",
       "      <td>1970-01-02</td>\n",
       "      <td>38</td>\n",
       "    </tr>\n",
       "    <tr>\n",
       "      <th>2</th>\n",
       "      <td>1970-01-03</td>\n",
       "      <td>32</td>\n",
       "    </tr>\n",
       "    <tr>\n",
       "      <th>3</th>\n",
       "      <td>1970-01-04</td>\n",
       "      <td>39</td>\n",
       "    </tr>\n",
       "    <tr>\n",
       "      <th>4</th>\n",
       "      <td>1970-01-05</td>\n",
       "      <td>44</td>\n",
       "    </tr>\n",
       "    <tr>\n",
       "      <th>...</th>\n",
       "      <td>...</td>\n",
       "      <td>...</td>\n",
       "    </tr>\n",
       "    <tr>\n",
       "      <th>18440</th>\n",
       "      <td>2020-06-27</td>\n",
       "      <td>39</td>\n",
       "    </tr>\n",
       "    <tr>\n",
       "      <th>18441</th>\n",
       "      <td>2020-06-28</td>\n",
       "      <td>38</td>\n",
       "    </tr>\n",
       "    <tr>\n",
       "      <th>18442</th>\n",
       "      <td>2020-06-29</td>\n",
       "      <td>30</td>\n",
       "    </tr>\n",
       "    <tr>\n",
       "      <th>18443</th>\n",
       "      <td>2020-06-30</td>\n",
       "      <td>47</td>\n",
       "    </tr>\n",
       "    <tr>\n",
       "      <th>18444</th>\n",
       "      <td>2020-07-01</td>\n",
       "      <td>29</td>\n",
       "    </tr>\n",
       "  </tbody>\n",
       "</table>\n",
       "<p>18445 rows × 2 columns</p>\n",
       "</div>"
      ],
      "text/plain": [
       "      acquisition_date  acquisitions\n",
       "0           1970-01-01            34\n",
       "1           1970-01-02            38\n",
       "2           1970-01-03            32\n",
       "3           1970-01-04            39\n",
       "4           1970-01-05            44\n",
       "...                ...           ...\n",
       "18440       2020-06-27            39\n",
       "18441       2020-06-28            38\n",
       "18442       2020-06-29            30\n",
       "18443       2020-06-30            47\n",
       "18444       2020-07-01            29\n",
       "\n",
       "[18445 rows x 2 columns]"
      ]
     },
     "execution_count": 12,
     "metadata": {},
     "output_type": "execute_result"
    }
   ],
   "source": [
    "acquisition_facts"
   ]
  },
  {
   "cell_type": "code",
   "execution_count": 31,
   "metadata": {},
   "outputs": [],
   "source": [
    "only201819 = acquisition_facts[(acquisition_facts['acquisition_date'].dt.year == 2019) |\n",
    "                            (acquisition_facts['acquisition_date'].dt.year == 2018)]"
   ]
  },
  {
   "cell_type": "code",
   "execution_count": 69,
   "metadata": {},
   "outputs": [
    {
     "name": "stderr",
     "output_type": "stream",
     "text": [
      "<ipython-input-69-1519ad50ac80>:1: SettingWithCopyWarning: \n",
      "A value is trying to be set on a copy of a slice from a DataFrame.\n",
      "Try using .loc[row_indexer,col_indexer] = value instead\n",
      "\n",
      "See the caveats in the documentation: https://pandas.pydata.org/pandas-docs/stable/user_guide/indexing.html#returning-a-view-versus-a-copy\n",
      "  only201819['Year'] = only201819['acquisition_date'].dt.year\n"
     ]
    }
   ],
   "source": [
    "only201819['Year'] = only201819['acquisition_date'].dt.year"
   ]
  },
  {
   "cell_type": "code",
   "execution_count": 73,
   "metadata": {},
   "outputs": [
    {
     "data": {
      "image/png": "[encoded data removed]",
      "text/plain": [
       "<Figure size 720x360 with 1 Axes>"
      ]
     },
     "metadata": {
      "needs_background": "light"
     },
     "output_type": "display_data"
    }
   ],
   "source": [
    "plt.figure(figsize = (10, 5))\n",
    "\n",
    "acq_vis = sns.lineplot(\n",
    "    x = only201819['acquisition_date'].dt.month,\n",
    "    y = only201819['acquisitions'],\n",
    "    hue = only201819['Year'],\n",
    "    legend = 'full',\n",
    "    ci = False,\n",
    "    palette = 'tab10'\n",
    ")\n",
    "\n",
    "plt.xlabel('Month of year')\n",
    "plt.ylabel('Number of acquisitions')\n",
    "plt.title('Constituent acquisitions by month in 2018 and 2019\\n')\n",
    "plt.xticks(range(1,13))\n",
    "plt.show()"
   ]
  }
 ],
 "metadata": {
  "kernelspec": {
   "display_name": "Python 3",
   "language": "python",
   "name": "python3"
  },
  "language_info": {
   "codemirror_mode": {
    "name": "ipython",
    "version": 3
   },
   "file_extension": ".py",
   "mimetype": "text/x-python",
   "name": "python",
   "nbconvert_exporter": "python",
   "pygments_lexer": "ipython3",
   "version": "3.8.1"
  }
 },
 "nbformat": 4,
 "nbformat_minor": 4
}
